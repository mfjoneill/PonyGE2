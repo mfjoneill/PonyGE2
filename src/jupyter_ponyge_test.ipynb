{
 "cells": [
  {
   "cell_type": "code",
   "execution_count": 1,
   "metadata": {
    "collapsed": true
   },
   "outputs": [],
   "source": [
    "import plotly"
   ]
  },
  {
   "cell_type": "code",
   "execution_count": 2,
   "metadata": {
    "collapsed": true
   },
   "outputs": [],
   "source": [
    "import ponyge"
   ]
  },
  {
   "cell_type": "code",
   "execution_count": 3,
   "metadata": {
    "collapsed": false
   },
   "outputs": [
    {
     "name": "stdout",
     "output_type": "stream",
     "text": [
      "\n",
      "Start:\t 2016-09-15 18:33:46.267033 \n",
      "\n"
     ]
    }
   ],
   "source": [
    "ponyge.set_params(\"\")"
   ]
  },
  {
   "cell_type": "code",
   "execution_count": 4,
   "metadata": {
    "collapsed": false
   },
   "outputs": [
    {
     "name": "stdout",
     "output_type": "stream",
     "text": [
      "Warning: Grammar contains unit production for production rule <e>\n",
      "       Unit productions consume GE codons.\n",
      "generate plot.ly charts....\n",
      "----+CHANGE FITNESS TARGET+----\n",
      "gen:  1 \t target:  (51.0, 51.0, 51.0)\n",
      "generate plot.ly charts....\n",
      "----+CHANGE FITNESS TARGET+----\n",
      "gen:  2 \t target:  (101.0, 101.0, 101.0)\n",
      "generate plot.ly charts....\n",
      "----+CHANGE FITNESS TARGET+----\n",
      "gen:  3 \t target:  (151.0, 151.0, 151.0)\n",
      "generate plot.ly charts....\n",
      "----+CHANGE FITNESS TARGET+----\n",
      "gen:  4 \t target:  (201.0, 201.0, 201.0)\n",
      "generate plot.ly charts....\n",
      "----+CHANGE FITNESS TARGET+----\n",
      "gen:  5 \t target:  (251.0, 251.0, 251.0)\n",
      "generate plot.ly charts....\n",
      "----+CHANGE FITNESS TARGET+----\n",
      "gen:  6 \t target:  (301.0, 301.0, 301.0)\n",
      "generate plot.ly charts....\n",
      "----+CHANGE FITNESS TARGET+----\n",
      "gen:  7 \t target:  (351.0, 351.0, 351.0)\n",
      "generate plot.ly charts....\n",
      "----+CHANGE FITNESS TARGET+----\n",
      "gen:  8 \t target:  (401.0, 401.0, 401.0)\n",
      "generate plot.ly charts....\n",
      "----+CHANGE FITNESS TARGET+----\n",
      "gen:  9 \t target:  (451.0, 451.0, 451.0)\n",
      "generate plot.ly charts....\n",
      "----+CHANGE FITNESS TARGET+----\n",
      "gen:  10 \t target:  (501.0, 501.0, 501.0)\n",
      "generate plot.ly charts....\n",
      "\n",
      "\n",
      "Best:\n",
      "  Fitness:\t 255.64232826353307\n",
      "  Phenotype: 0405 0672 0337\n",
      "  Genome: [99827, 630, 73144, 18450, 65375, 65370, 6416, 50007, 12932, 48000, 85763, 57793, 5507, 20720, 70608, 250, 17269, 2861, 45881, 68316, 20720, 77034, 78344, 89331, 82308, 99691, 13138, 7920, 34549, 30914, 64973, 53695, 78388, 78035, 54045, 29225, 20122]\n",
      "  ave_fitness : \t 3644.891021397705\n",
      "  ave_genome_length : \t 26.66\n",
      "  ave_tree_depth : \t 3.0\n",
      "  ave_tree_nodes : \t 25.0\n",
      "  ave_used_codons : \t 13.0\n",
      "  best_ever : \t Individual: 0405 0672 0337; 255.64232826353307\n",
      "  best_fitness : \t 255.64232826353307\n",
      "  gen : \t 10\n",
      "  invalids : \t 0\n",
      "  max_genome_length : \t 47\n",
      "  max_tree_depth : \t 3\n",
      "  max_tree_nodes : \t 25\n",
      "  max_used_codons : \t 13\n",
      "  min_genome_length : \t 13\n",
      "  min_tree_depth : \t 3\n",
      "  min_tree_nodes : \t 25\n",
      "  min_used_codons : \t 13\n",
      "  regens : \t 0\n",
      "  time_taken : \t 0:00:00.670160\n",
      "  total_inds : \t 1100\n",
      "  total_time : \t 0:00:08.267188\n",
      "  unique_inds : \t 0\n",
      "  unused_search : \t 100.0\n",
      "\n",
      "Time taken:\t 0:00:08.267188\n"
     ]
    },
    {
     "data": {
      "text/plain": [
       "('16_9_15_183346_267033', 255.64232826353307)"
      ]
     },
     "execution_count": 4,
     "metadata": {},
     "output_type": "execute_result"
    }
   ],
   "source": [
    "ponyge.mane()"
   ]
  },
  {
   "cell_type": "code",
   "execution_count": null,
   "metadata": {
    "collapsed": true
   },
   "outputs": [],
   "source": []
  }
 ],
 "metadata": {
  "anaconda-cloud": {},
  "kernelspec": {
   "display_name": "Python [Root]",
   "language": "python",
   "name": "Python [Root]"
  },
  "language_info": {
   "codemirror_mode": {
    "name": "ipython",
    "version": 3
   },
   "file_extension": ".py",
   "mimetype": "text/x-python",
   "name": "python",
   "nbconvert_exporter": "python",
   "pygments_lexer": "ipython3",
   "version": "3.5.2"
  }
 },
 "nbformat": 4,
 "nbformat_minor": 0
}
