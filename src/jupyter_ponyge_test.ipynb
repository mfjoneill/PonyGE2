{
 "cells": [
  {
   "cell_type": "code",
   "execution_count": 8,
   "metadata": {
    "collapsed": true
   },
   "outputs": [],
   "source": [
    "import plotly"
   ]
  },
  {
   "cell_type": "code",
   "execution_count": 13,
   "metadata": {
    "collapsed": true
   },
   "outputs": [],
   "source": [
    "from plotly.offline import init_notebook_mode, plot, iplot"
   ]
  },
  {
   "cell_type": "code",
   "execution_count": 14,
   "metadata": {
    "collapsed": true
   },
   "outputs": [],
   "source": [
    "from plotly.graph_objs import Scatter, Layout"
   ]
  },
  {
   "cell_type": "code",
   "execution_count": 15,
   "metadata": {
    "collapsed": false
   },
   "outputs": [
    {
     "data": {
      "text/html": [
       "<script>requirejs.config({paths: { 'plotly': ['https://cdn.plot.ly/plotly-latest.min']},});if(!window.Plotly) {{require(['plotly'],function(plotly) {window.Plotly=plotly;});}}</script>"
      ],
      "text/plain": [
       "<IPython.core.display.HTML object>"
      ]
     },
     "metadata": {},
     "output_type": "display_data"
    }
   ],
   "source": [
    "init_notebook_mode(connected=True)"
   ]
  },
  {
   "cell_type": "code",
   "execution_count": 16,
   "metadata": {
    "collapsed": false
   },
   "outputs": [
    {
     "data": {
      "text/html": [
       "<div id=\"34198ee4-295c-4887-a7c2-e9803bbbe2a8\" style=\"height: 525px; width: 100%;\" class=\"plotly-graph-div\"></div><script type=\"text/javascript\">require([\"plotly\"], function(Plotly) { window.PLOTLYENV=window.PLOTLYENV || {};window.PLOTLYENV.BASE_URL=\"https://plot.ly\";Plotly.newPlot(\"34198ee4-295c-4887-a7c2-e9803bbbe2a8\", [{\"type\": \"scatter\", \"y\": [3, 1, 6], \"x\": [1, 2, 3]}], {}, {\"linkText\": \"Export to plot.ly\", \"showLink\": true})});</script>"
      ],
      "text/plain": [
       "<IPython.core.display.HTML object>"
      ]
     },
     "metadata": {},
     "output_type": "display_data"
    }
   ],
   "source": [
    "iplot([Scatter(x=[1,2,3],y=[3,1,6])])"
   ]
  },
  {
   "cell_type": "code",
   "execution_count": 4,
   "metadata": {
    "collapsed": true
   },
   "outputs": [],
   "source": [
    "import ponyge"
   ]
  },
  {
   "cell_type": "code",
   "execution_count": 5,
   "metadata": {
    "collapsed": false
   },
   "outputs": [
    {
     "name": "stdout",
     "output_type": "stream",
     "text": [
      "\n",
      "Start:\t 2016-09-15 18:44:24.124449 \n",
      "\n"
     ]
    }
   ],
   "source": [
    "ponyge.set_params(\"\")"
   ]
  },
  {
   "cell_type": "code",
   "execution_count": 6,
   "metadata": {
    "collapsed": false
   },
   "outputs": [
    {
     "name": "stdout",
     "output_type": "stream",
     "text": [
      "Warning: Grammar contains unit production for production rule <e>\n",
      "       Unit productions consume GE codons.\n",
      "generate plot.ly charts....\n",
      "----+CHANGE FITNESS TARGET+----\n",
      "gen:  1 \t target:  (51.0, 51.0, 51.0)\n",
      "generate plot.ly charts....\n",
      "----+CHANGE FITNESS TARGET+----\n",
      "gen:  2 \t target:  (101.0, 101.0, 101.0)\n",
      "generate plot.ly charts....\n",
      "----+CHANGE FITNESS TARGET+----\n",
      "gen:  3 \t target:  (151.0, 151.0, 151.0)\n",
      "generate plot.ly charts....\n",
      "----+CHANGE FITNESS TARGET+----\n",
      "gen:  4 \t target:  (201.0, 201.0, 201.0)\n",
      "generate plot.ly charts....\n",
      "----+CHANGE FITNESS TARGET+----\n",
      "gen:  5 \t target:  (251.0, 251.0, 251.0)\n",
      "generate plot.ly charts....\n",
      "----+CHANGE FITNESS TARGET+----\n",
      "gen:  6 \t target:  (301.0, 301.0, 301.0)\n",
      "generate plot.ly charts....\n",
      "----+CHANGE FITNESS TARGET+----\n",
      "gen:  7 \t target:  (351.0, 351.0, 351.0)\n",
      "generate plot.ly charts....\n",
      "----+CHANGE FITNESS TARGET+----\n",
      "gen:  8 \t target:  (401.0, 401.0, 401.0)\n",
      "generate plot.ly charts....\n",
      "----+CHANGE FITNESS TARGET+----\n",
      "gen:  9 \t target:  (451.0, 451.0, 451.0)\n",
      "generate plot.ly charts....\n",
      "----+CHANGE FITNESS TARGET+----\n",
      "gen:  10 \t target:  (501.0, 501.0, 501.0)\n",
      "generate plot.ly charts....\n",
      "\n",
      "\n",
      "Best:\n",
      "  Fitness:\t 234.74454200257776\n",
      "  Phenotype: 0657 0676 0513\n",
      "  Genome: [49759, 99370, 73926, 96785, 17, 63010, 36016, 61397, 77476, 22530, 91315, 36321, 97193, 38488, 15448, 72264, 72463, 89900, 75747, 84596, 27178]\n",
      "  ave_fitness : \t 4650.780052866194\n",
      "  ave_genome_length : \t 22.88\n",
      "  ave_tree_depth : \t 3.0\n",
      "  ave_tree_nodes : \t 25.0\n",
      "  ave_used_codons : \t 13.0\n",
      "  best_ever : \t Individual: 0657 0676 0513; 234.74454200257776\n",
      "  best_fitness : \t 234.74454200257776\n",
      "  gen : \t 10\n",
      "  invalids : \t 0\n",
      "  max_genome_length : \t 50\n",
      "  max_tree_depth : \t 3\n",
      "  max_tree_nodes : \t 25\n",
      "  max_used_codons : \t 13\n",
      "  min_genome_length : \t 13\n",
      "  min_tree_depth : \t 3\n",
      "  min_tree_nodes : \t 25\n",
      "  min_used_codons : \t 13\n",
      "  regens : \t 0\n",
      "  time_taken : \t 0:00:00.676710\n",
      "  total_inds : \t 1100\n",
      "  total_time : \t 0:00:08.120333\n",
      "  unique_inds : \t 0\n",
      "  unused_search : \t 100.0\n",
      "\n",
      "Time taken:\t 0:00:08.120333\n"
     ]
    },
    {
     "data": {
      "text/plain": [
       "('16_9_15_184424_124449', 234.74454200257776)"
      ]
     },
     "execution_count": 6,
     "metadata": {},
     "output_type": "execute_result"
    }
   ],
   "source": [
    "ponyge.mane()"
   ]
  },
  {
   "cell_type": "code",
   "execution_count": null,
   "metadata": {
    "collapsed": true
   },
   "outputs": [],
   "source": []
  }
 ],
 "metadata": {
  "anaconda-cloud": {},
  "kernelspec": {
   "display_name": "Python [Root]",
   "language": "python",
   "name": "Python [Root]"
  },
  "language_info": {
   "codemirror_mode": {
    "name": "ipython",
    "version": 3
   },
   "file_extension": ".py",
   "mimetype": "text/x-python",
   "name": "python",
   "nbconvert_exporter": "python",
   "pygments_lexer": "ipython3",
   "version": "3.5.2"
  }
 },
 "nbformat": 4,
 "nbformat_minor": 0
}
